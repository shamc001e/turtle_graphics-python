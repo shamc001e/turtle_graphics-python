{
 "cells": [
  {
   "cell_type": "code",
   "execution_count": null,
   "metadata": {},
   "outputs": [],
   "source": [
    "import turtle as t\n",
    "import colorsys as c\n",
    "h = 0\n",
    "t.tracer(250)\n",
    "t.bgcolor(\"black\")\n",
    "t.width(5)\n",
    "\n",
    "for i in range(2000):\n",
    "    color = c.hsv_to_rgb(h, 1, 1)\n",
    "    h+=0.01\n",
    "    t.fillcolor(color)\n",
    "    t.pencolor(\"black\")\n",
    "    t.begin_fill()\n",
    "    t.fd(i)\n",
    "    t.lt(90)\n",
    "    t.fd(i)\n",
    "    t.lt(45)\n",
    "    t.bk(i)\n",
    "    t.rt(30)\n",
    "    t.circle(i, 60)\n",
    "    t.fd(i)\n",
    "    t.lt(27)\n",
    "    t.bk(i)\n",
    "    t.fd(i)\n",
    "    t.rt(100)\n",
    "    t.bk(i)\n",
    "    t.fd(i)\n",
    "    t.end_fill()\n",
    "t.done()"
   ]
  }
 ],
 "metadata": {
  "kernelspec": {
   "display_name": "Python 3",
   "language": "python",
   "name": "python3"
  },
  "language_info": {
   "codemirror_mode": {
    "name": "ipython",
    "version": 3
   },
   "file_extension": ".py",
   "mimetype": "text/x-python",
   "name": "python",
   "nbconvert_exporter": "python",
   "pygments_lexer": "ipython3",
   "version": "3.7.6"
  }
 },
 "nbformat": 4,
 "nbformat_minor": 4
}
